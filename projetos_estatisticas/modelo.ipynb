{
 "cells": [
  {
   "cell_type": "code",
   "execution_count": 1,
   "metadata": {},
   "outputs": [],
   "source": [
    "#Importação das bibliotecas\n",
    "\n",
    "import pandas as pd\n",
    "import numpy as np\n",
    "from sklearn.neighbors import KNeighborsClassifier\n",
    "from sklearn.metrics import accuracy_score, confusion_matrix\n",
    "from sklearn.tree import DecisionTreeClassifier\n",
    "from sklearn.preprocessing import LabelEncoder\n",
    "from sklearn.ensemble import RandomForestClassifier\n",
    "from sklearn.naive_bayes import GaussianNB\n",
    "from sklearn.model_selection import train_test_split\n",
    "import seaborn as srn\n",
    "from yellowbrick.classifier import ConfusionMatrix"
   ]
  },
  {
   "cell_type": "code",
   "execution_count": 2,
   "metadata": {},
   "outputs": [
    {
     "data": {
      "text/html": [
       "<div>\n",
       "<style scoped>\n",
       "    .dataframe tbody tr th:only-of-type {\n",
       "        vertical-align: middle;\n",
       "    }\n",
       "\n",
       "    .dataframe tbody tr th {\n",
       "        vertical-align: top;\n",
       "    }\n",
       "\n",
       "    .dataframe thead th {\n",
       "        text-align: right;\n",
       "    }\n",
       "</style>\n",
       "<table border=\"1\" class=\"dataframe\">\n",
       "  <thead>\n",
       "    <tr style=\"text-align: right;\">\n",
       "      <th></th>\n",
       "      <th>mandante</th>\n",
       "      <th>visitante</th>\n",
       "      <th>posse_casa</th>\n",
       "      <th>posse_fora</th>\n",
       "      <th>chutes_casa</th>\n",
       "      <th>chutes_fora</th>\n",
       "      <th>chutes_gol_casa</th>\n",
       "      <th>chutes_gol_fora</th>\n",
       "      <th>escanteios_casa</th>\n",
       "      <th>escanteios_fora</th>\n",
       "      <th>faltas_casa</th>\n",
       "      <th>faltas_fora</th>\n",
       "      <th>passes_casa</th>\n",
       "      <th>passes_fora</th>\n",
       "      <th>passes_certos_casa</th>\n",
       "      <th>passes_certos_fora</th>\n",
       "      <th>resultado</th>\n",
       "    </tr>\n",
       "  </thead>\n",
       "  <tbody>\n",
       "    <tr>\n",
       "      <th>0</th>\n",
       "      <td>Wolves</td>\n",
       "      <td>Leeds</td>\n",
       "      <td>0.66</td>\n",
       "      <td>0.34</td>\n",
       "      <td>23</td>\n",
       "      <td>11</td>\n",
       "      <td>8</td>\n",
       "      <td>4</td>\n",
       "      <td>5</td>\n",
       "      <td>4</td>\n",
       "      <td>2</td>\n",
       "      <td>0</td>\n",
       "      <td>580</td>\n",
       "      <td>294</td>\n",
       "      <td>0.83</td>\n",
       "      <td>0.68</td>\n",
       "      <td>DERROTA</td>\n",
       "    </tr>\n",
       "    <tr>\n",
       "      <th>1</th>\n",
       "      <td>Brentford</td>\n",
       "      <td>Leicester</td>\n",
       "      <td>0.53</td>\n",
       "      <td>0.47</td>\n",
       "      <td>11</td>\n",
       "      <td>14</td>\n",
       "      <td>2</td>\n",
       "      <td>1</td>\n",
       "      <td>8</td>\n",
       "      <td>4</td>\n",
       "      <td>1</td>\n",
       "      <td>3</td>\n",
       "      <td>484</td>\n",
       "      <td>443</td>\n",
       "      <td>0.77</td>\n",
       "      <td>0.80</td>\n",
       "      <td>EMPATE</td>\n",
       "    </tr>\n",
       "    <tr>\n",
       "      <th>2</th>\n",
       "      <td>Southampton</td>\n",
       "      <td>Tottenham</td>\n",
       "      <td>0.50</td>\n",
       "      <td>0.50</td>\n",
       "      <td>19</td>\n",
       "      <td>17</td>\n",
       "      <td>7</td>\n",
       "      <td>3</td>\n",
       "      <td>10</td>\n",
       "      <td>3</td>\n",
       "      <td>2</td>\n",
       "      <td>1</td>\n",
       "      <td>457</td>\n",
       "      <td>450</td>\n",
       "      <td>0.85</td>\n",
       "      <td>0.84</td>\n",
       "      <td>EMPATE</td>\n",
       "    </tr>\n",
       "    <tr>\n",
       "      <th>3</th>\n",
       "      <td>Chelsea</td>\n",
       "      <td>Everton</td>\n",
       "      <td>0.69</td>\n",
       "      <td>0.31</td>\n",
       "      <td>20</td>\n",
       "      <td>12</td>\n",
       "      <td>7</td>\n",
       "      <td>3</td>\n",
       "      <td>8</td>\n",
       "      <td>2</td>\n",
       "      <td>2</td>\n",
       "      <td>1</td>\n",
       "      <td>542</td>\n",
       "      <td>246</td>\n",
       "      <td>0.84</td>\n",
       "      <td>0.67</td>\n",
       "      <td>EMPATE</td>\n",
       "    </tr>\n",
       "    <tr>\n",
       "      <th>4</th>\n",
       "      <td>Arsenal</td>\n",
       "      <td>Crystal Palace</td>\n",
       "      <td>0.62</td>\n",
       "      <td>0.38</td>\n",
       "      <td>15</td>\n",
       "      <td>9</td>\n",
       "      <td>5</td>\n",
       "      <td>5</td>\n",
       "      <td>5</td>\n",
       "      <td>4</td>\n",
       "      <td>2</td>\n",
       "      <td>2</td>\n",
       "      <td>587</td>\n",
       "      <td>358</td>\n",
       "      <td>0.87</td>\n",
       "      <td>0.78</td>\n",
       "      <td>VITORIA</td>\n",
       "    </tr>\n",
       "  </tbody>\n",
       "</table>\n",
       "</div>"
      ],
      "text/plain": [
       "      mandante       visitante  posse_casa  posse_fora  chutes_casa  \\\n",
       "0       Wolves           Leeds        0.66        0.34           23   \n",
       "1    Brentford       Leicester        0.53        0.47           11   \n",
       "2  Southampton       Tottenham        0.50        0.50           19   \n",
       "3      Chelsea         Everton        0.69        0.31           20   \n",
       "4      Arsenal  Crystal Palace        0.62        0.38           15   \n",
       "\n",
       "   chutes_fora  chutes_gol_casa  chutes_gol_fora  escanteios_casa  \\\n",
       "0           11                8                4                5   \n",
       "1           14                2                1                8   \n",
       "2           17                7                3               10   \n",
       "3           12                7                3                8   \n",
       "4            9                5                5                5   \n",
       "\n",
       "   escanteios_fora  faltas_casa  faltas_fora  passes_casa  passes_fora  \\\n",
       "0                4            2            0          580          294   \n",
       "1                4            1            3          484          443   \n",
       "2                3            2            1          457          450   \n",
       "3                2            2            1          542          246   \n",
       "4                4            2            2          587          358   \n",
       "\n",
       "   passes_certos_casa  passes_certos_fora resultado  \n",
       "0                0.83                0.68   DERROTA  \n",
       "1                0.77                0.80    EMPATE  \n",
       "2                0.85                0.84    EMPATE  \n",
       "3                0.84                0.67    EMPATE  \n",
       "4                0.87                0.78   VITORIA  "
      ]
     },
     "execution_count": 2,
     "metadata": {},
     "output_type": "execute_result"
    }
   ],
   "source": [
    "#Importando a base de dados\n",
    "\n",
    "base = pd.read_excel(\"stats.xlsx\")\n",
    "base.head()\n"
   ]
  },
  {
   "attachments": {},
   "cell_type": "markdown",
   "metadata": {},
   "source": [
    "ETAPA DE LIMPEZA E TRATAMENTO DOS DADOS (OS DADOS JÁ ESTÃO TODOS LIMPOS E TRATADOS, SÓ PASSANDO POR ESSA ETAPA\n",
    "PARA NÃO PERDER O COSTUME)"
   ]
  },
  {
   "cell_type": "code",
   "execution_count": 3,
   "metadata": {},
   "outputs": [
    {
     "data": {
      "text/plain": [
       "mandante              0\n",
       "visitante             0\n",
       "posse_casa            0\n",
       "posse_fora            0\n",
       "chutes_casa           0\n",
       "chutes_fora           0\n",
       "chutes_gol_casa       0\n",
       "chutes_gol_fora       0\n",
       "escanteios_casa       0\n",
       "escanteios_fora       0\n",
       "faltas_casa           0\n",
       "faltas_fora           0\n",
       "passes_casa           0\n",
       "passes_fora           0\n",
       "passes_certos_casa    0\n",
       "passes_certos_fora    0\n",
       "resultado             0\n",
       "dtype: int64"
      ]
     },
     "execution_count": 3,
     "metadata": {},
     "output_type": "execute_result"
    }
   ],
   "source": [
    "#Etapa da limpeza e tratamento dos dados\n",
    "#Verificando se há colunas com dados em branco\n",
    "base.isnull().sum()"
   ]
  },
  {
   "cell_type": "code",
   "execution_count": null,
   "metadata": {},
   "outputs": [],
   "source": [
    "#Explorando alguns dados categóricos para ver senão há dados de um mesmo time muitas vezes\n",
    "#Time mandante\n",
    "agrupado = base.groupby([\"mandante\"]).size()\n",
    "agrupado"
   ]
  },
  {
   "cell_type": "code",
   "execution_count": null,
   "metadata": {},
   "outputs": [],
   "source": [
    "#Time visitante\n",
    "\n",
    "agrupado = base.groupby([\"visitante\"]).size()\n",
    "agrupado"
   ]
  },
  {
   "cell_type": "code",
   "execution_count": null,
   "metadata": {},
   "outputs": [],
   "source": [
    "#Explorando colunas numéricas\n",
    "\n",
    "base[\"posse_casa\"].describe()"
   ]
  },
  {
   "cell_type": "code",
   "execution_count": null,
   "metadata": {},
   "outputs": [],
   "source": [
    "srn.boxplot(base[\"posse_casa\"]).set_title(\"Posse Casa\")"
   ]
  },
  {
   "cell_type": "code",
   "execution_count": null,
   "metadata": {},
   "outputs": [],
   "source": [
    "base[\"posse_fora\"].describe()"
   ]
  },
  {
   "cell_type": "code",
   "execution_count": null,
   "metadata": {},
   "outputs": [],
   "source": [
    "srn.boxplot(base[\"posse_fora\"]).set_title(\"Posse Fora\")"
   ]
  },
  {
   "cell_type": "code",
   "execution_count": null,
   "metadata": {},
   "outputs": [],
   "source": [
    "base[\"passes_casa\"].describe()"
   ]
  },
  {
   "cell_type": "code",
   "execution_count": null,
   "metadata": {},
   "outputs": [],
   "source": [
    "srn.boxplot(base[\"passes_casa\"]).set_title(\"Passes Casa\")"
   ]
  },
  {
   "cell_type": "code",
   "execution_count": null,
   "metadata": {},
   "outputs": [],
   "source": [
    "base[\"passes_fora\"].describe()"
   ]
  },
  {
   "cell_type": "code",
   "execution_count": null,
   "metadata": {},
   "outputs": [],
   "source": [
    "srn.boxplot(base[\"passes_fora\"]).set_title(\"Passes Fora\")"
   ]
  },
  {
   "cell_type": "code",
   "execution_count": null,
   "metadata": {},
   "outputs": [],
   "source": [
    "base[\"chutes_casa\"].describe()"
   ]
  },
  {
   "cell_type": "code",
   "execution_count": null,
   "metadata": {},
   "outputs": [],
   "source": [
    "srn.boxplot(base[\"chutes_casa\"]).set_title(\"Chutes Casa\")"
   ]
  },
  {
   "cell_type": "code",
   "execution_count": null,
   "metadata": {},
   "outputs": [],
   "source": [
    "base[\"chutes_fora\"].describe()"
   ]
  },
  {
   "cell_type": "code",
   "execution_count": null,
   "metadata": {},
   "outputs": [],
   "source": [
    "srn.boxplot(base[\"chutes_fora\"]).set_title(\"Chutes Fora\")"
   ]
  },
  {
   "cell_type": "code",
   "execution_count": null,
   "metadata": {},
   "outputs": [],
   "source": [
    "base[\"passes_certos_casa\"].describe()"
   ]
  },
  {
   "cell_type": "code",
   "execution_count": null,
   "metadata": {},
   "outputs": [],
   "source": [
    "srn.boxplot(base[\"passes_certos_casa\"]).set_title(\"Passes Certos Casa\")"
   ]
  },
  {
   "cell_type": "code",
   "execution_count": null,
   "metadata": {},
   "outputs": [],
   "source": [
    "base[\"passes_certos_fora\"].describe()"
   ]
  },
  {
   "cell_type": "code",
   "execution_count": null,
   "metadata": {},
   "outputs": [],
   "source": [
    "srn.boxplot(base[\"passes_certos_fora\"]).set_title(\"Passes Certos Fora\")"
   ]
  },
  {
   "attachments": {},
   "cell_type": "markdown",
   "metadata": {},
   "source": [
    "COMEÇANDO A CONTRUÇÃO DO MODELO"
   ]
  },
  {
   "cell_type": "code",
   "execution_count": 10,
   "metadata": {},
   "outputs": [
    {
     "data": {
      "text/plain": [
       "array([['Wolves', 'Leeds', 0.66, ..., 294, 0.83, 0.68],\n",
       "       ['Brentford', 'Leicester', 0.53, ..., 443, 0.77, 0.8],\n",
       "       ['Southampton', 'Tottenham', 0.5, ..., 450, 0.85, 0.84],\n",
       "       ...,\n",
       "       ['Man. United', 'Brighton', 0.63, ..., 326, 0.82, 0.7],\n",
       "       ['West Ham', 'Man. City', 0.25, ..., 833, 0.78, 0.93],\n",
       "       ['Aston Villa', 'Everton', 0.58, ..., 378, 0.84, 0.77]],\n",
       "      dtype=object)"
      ]
     },
     "execution_count": 10,
     "metadata": {},
     "output_type": "execute_result"
    }
   ],
   "source": [
    "#Separando os previsores e a classe\n",
    "\n",
    "previsores = base.iloc[:, 0:16].values\n",
    "classe =  base.iloc[:, 16].values\n",
    "previsores"
   ]
  },
  {
   "cell_type": "code",
   "execution_count": 14,
   "metadata": {},
   "outputs": [
    {
     "data": {
      "text/plain": [
       "array([[19, 10, 0.66, ..., 294, 0.83, 0.68],\n",
       "       [3, 11, 0.53, ..., 443, 0.77, 0.8],\n",
       "       [16, 17, 0.5, ..., 450, 0.85, 0.84],\n",
       "       ...,\n",
       "       [14, 4, 0.63, ..., 326, 0.82, 0.7],\n",
       "       [18, 13, 0.25, ..., 833, 0.78, 0.93],\n",
       "       [1, 7, 0.58, ..., 378, 0.84, 0.77]], dtype=object)"
      ]
     },
     "execution_count": 14,
     "metadata": {},
     "output_type": "execute_result"
    }
   ],
   "source": [
    "#Fazendo a tranformação das colunas de texto em codigos para serem usadas no modelo\n",
    "labelencoder1 = LabelEncoder()\n",
    "previsores[:, 0] = labelencoder1.fit_transform(previsores[:, 0])\n",
    "\n",
    "labelencoder2 = LabelEncoder()\n",
    "previsores[:, 1] = labelencoder2.fit_transform(previsores[:, 1])\n",
    "previsores"
   ]
  },
  {
   "cell_type": "code",
   "execution_count": 15,
   "metadata": {},
   "outputs": [],
   "source": [
    "#Separando os dados de treino e teste\n",
    "\n",
    "x_treino, x_teste, y_treino, y_teste = train_test_split(previsores,\n",
    "                                                        classe,\n",
    "                                                        test_size=0.3,\n",
    "                                                        random_state=0)"
   ]
  },
  {
   "cell_type": "code",
   "execution_count": 16,
   "metadata": {},
   "outputs": [
    {
     "data": {
      "text/html": [
       "<style>#sk-container-id-2 {color: black;background-color: white;}#sk-container-id-2 pre{padding: 0;}#sk-container-id-2 div.sk-toggleable {background-color: white;}#sk-container-id-2 label.sk-toggleable__label {cursor: pointer;display: block;width: 100%;margin-bottom: 0;padding: 0.3em;box-sizing: border-box;text-align: center;}#sk-container-id-2 label.sk-toggleable__label-arrow:before {content: \"▸\";float: left;margin-right: 0.25em;color: #696969;}#sk-container-id-2 label.sk-toggleable__label-arrow:hover:before {color: black;}#sk-container-id-2 div.sk-estimator:hover label.sk-toggleable__label-arrow:before {color: black;}#sk-container-id-2 div.sk-toggleable__content {max-height: 0;max-width: 0;overflow: hidden;text-align: left;background-color: #f0f8ff;}#sk-container-id-2 div.sk-toggleable__content pre {margin: 0.2em;color: black;border-radius: 0.25em;background-color: #f0f8ff;}#sk-container-id-2 input.sk-toggleable__control:checked~div.sk-toggleable__content {max-height: 200px;max-width: 100%;overflow: auto;}#sk-container-id-2 input.sk-toggleable__control:checked~label.sk-toggleable__label-arrow:before {content: \"▾\";}#sk-container-id-2 div.sk-estimator input.sk-toggleable__control:checked~label.sk-toggleable__label {background-color: #d4ebff;}#sk-container-id-2 div.sk-label input.sk-toggleable__control:checked~label.sk-toggleable__label {background-color: #d4ebff;}#sk-container-id-2 input.sk-hidden--visually {border: 0;clip: rect(1px 1px 1px 1px);clip: rect(1px, 1px, 1px, 1px);height: 1px;margin: -1px;overflow: hidden;padding: 0;position: absolute;width: 1px;}#sk-container-id-2 div.sk-estimator {font-family: monospace;background-color: #f0f8ff;border: 1px dotted black;border-radius: 0.25em;box-sizing: border-box;margin-bottom: 0.5em;}#sk-container-id-2 div.sk-estimator:hover {background-color: #d4ebff;}#sk-container-id-2 div.sk-parallel-item::after {content: \"\";width: 100%;border-bottom: 1px solid gray;flex-grow: 1;}#sk-container-id-2 div.sk-label:hover label.sk-toggleable__label {background-color: #d4ebff;}#sk-container-id-2 div.sk-serial::before {content: \"\";position: absolute;border-left: 1px solid gray;box-sizing: border-box;top: 0;bottom: 0;left: 50%;z-index: 0;}#sk-container-id-2 div.sk-serial {display: flex;flex-direction: column;align-items: center;background-color: white;padding-right: 0.2em;padding-left: 0.2em;position: relative;}#sk-container-id-2 div.sk-item {position: relative;z-index: 1;}#sk-container-id-2 div.sk-parallel {display: flex;align-items: stretch;justify-content: center;background-color: white;position: relative;}#sk-container-id-2 div.sk-item::before, #sk-container-id-2 div.sk-parallel-item::before {content: \"\";position: absolute;border-left: 1px solid gray;box-sizing: border-box;top: 0;bottom: 0;left: 50%;z-index: -1;}#sk-container-id-2 div.sk-parallel-item {display: flex;flex-direction: column;z-index: 1;position: relative;background-color: white;}#sk-container-id-2 div.sk-parallel-item:first-child::after {align-self: flex-end;width: 50%;}#sk-container-id-2 div.sk-parallel-item:last-child::after {align-self: flex-start;width: 50%;}#sk-container-id-2 div.sk-parallel-item:only-child::after {width: 0;}#sk-container-id-2 div.sk-dashed-wrapped {border: 1px dashed gray;margin: 0 0.4em 0.5em 0.4em;box-sizing: border-box;padding-bottom: 0.4em;background-color: white;}#sk-container-id-2 div.sk-label label {font-family: monospace;font-weight: bold;display: inline-block;line-height: 1.2em;}#sk-container-id-2 div.sk-label-container {text-align: center;}#sk-container-id-2 div.sk-container {/* jupyter's `normalize.less` sets `[hidden] { display: none; }` but bootstrap.min.css set `[hidden] { display: none !important; }` so we also need the `!important` here to be able to override the default hidden behavior on the sphinx rendered scikit-learn.org. See: https://github.com/scikit-learn/scikit-learn/issues/21755 */display: inline-block !important;position: relative;}#sk-container-id-2 div.sk-text-repr-fallback {display: none;}</style><div id=\"sk-container-id-2\" class=\"sk-top-container\"><div class=\"sk-text-repr-fallback\"><pre>GaussianNB()</pre><b>In a Jupyter environment, please rerun this cell to show the HTML representation or trust the notebook. <br />On GitHub, the HTML representation is unable to render, please try loading this page with nbviewer.org.</b></div><div class=\"sk-container\" hidden><div class=\"sk-item\"><div class=\"sk-estimator sk-toggleable\"><input class=\"sk-toggleable__control sk-hidden--visually\" id=\"sk-estimator-id-2\" type=\"checkbox\" checked><label for=\"sk-estimator-id-2\" class=\"sk-toggleable__label sk-toggleable__label-arrow\">GaussianNB</label><div class=\"sk-toggleable__content\"><pre>GaussianNB()</pre></div></div></div></div></div>"
      ],
      "text/plain": [
       "GaussianNB()"
      ]
     },
     "execution_count": 16,
     "metadata": {},
     "output_type": "execute_result"
    }
   ],
   "source": [
    "#O primeiro modelo a ser feito é o Naive Bayes\n",
    "\n",
    "naive_bayes = GaussianNB()\n",
    "naive_bayes.fit(x_treino, y_treino) "
   ]
  },
  {
   "cell_type": "code",
   "execution_count": 17,
   "metadata": {},
   "outputs": [
    {
     "data": {
      "text/plain": [
       "array(['VITORIA', 'VITORIA', 'VITORIA', 'VITORIA', 'VITORIA', 'EMPATE',\n",
       "       'VITORIA', 'DERROTA', 'VITORIA', 'DERROTA', 'EMPATE', 'EMPATE',\n",
       "       'DERROTA', 'VITORIA', 'VITORIA', 'VITORIA', 'EMPATE', 'EMPATE',\n",
       "       'VITORIA', 'EMPATE', 'DERROTA', 'DERROTA', 'VITORIA', 'VITORIA',\n",
       "       'VITORIA', 'EMPATE', 'DERROTA', 'EMPATE', 'DERROTA', 'DERROTA',\n",
       "       'VITORIA', 'VITORIA', 'VITORIA', 'VITORIA', 'EMPATE', 'VITORIA',\n",
       "       'EMPATE', 'DERROTA', 'VITORIA', 'DERROTA', 'VITORIA', 'VITORIA',\n",
       "       'VITORIA', 'VITORIA', 'EMPATE', 'EMPATE', 'EMPATE', 'DERROTA',\n",
       "       'EMPATE', 'VITORIA', 'VITORIA', 'VITORIA', 'EMPATE', 'VITORIA',\n",
       "       'VITORIA', 'VITORIA', 'VITORIA', 'VITORIA', 'VITORIA', 'VITORIA',\n",
       "       'EMPATE', 'VITORIA', 'DERROTA', 'EMPATE', 'DERROTA', 'EMPATE',\n",
       "       'VITORIA', 'VITORIA', 'VITORIA', 'VITORIA', 'VITORIA', 'VITORIA',\n",
       "       'EMPATE', 'EMPATE', 'EMPATE', 'VITORIA', 'VITORIA', 'DERROTA',\n",
       "       'VITORIA', 'DERROTA', 'DERROTA'], dtype='<U7')"
      ]
     },
     "execution_count": 17,
     "metadata": {},
     "output_type": "execute_result"
    }
   ],
   "source": [
    "previsoes_nv = naive_bayes.predict(x_teste)\n",
    "previsoes_nv"
   ]
  },
  {
   "cell_type": "code",
   "execution_count": 18,
   "metadata": {},
   "outputs": [
    {
     "data": {
      "text/plain": [
       "array([[ 9,  7, 10],\n",
       "       [ 3,  5, 13],\n",
       "       [ 4,  9, 21]], dtype=int64)"
      ]
     },
     "execution_count": 18,
     "metadata": {},
     "output_type": "execute_result"
    }
   ],
   "source": [
    "#Matrix de confusão\n",
    "\n",
    "matrix_nv = confusion_matrix(y_teste, previsoes_nv)\n",
    "matrix_nv"
   ]
  },
  {
   "cell_type": "code",
   "execution_count": 19,
   "metadata": {},
   "outputs": [
    {
     "data": {
      "image/png": "[encoded data removed]",
      "text/plain": [
       "<Figure size 800x550 with 1 Axes>"
      ]
     },
     "metadata": {},
     "output_type": "display_data"
    },
    {
     "data": {
      "text/plain": [
       "<AxesSubplot:title={'center':'GaussianNB Confusion Matrix'}, xlabel='Predicted Class', ylabel='True Class'>"
      ]
     },
     "execution_count": 19,
     "metadata": {},
     "output_type": "execute_result"
    }
   ],
   "source": [
    "v = ConfusionMatrix(GaussianNB())\n",
    "v.fit(x_treino, y_treino)\n",
    "v.score(x_teste, y_teste)\n",
    "v.poof()"
   ]
  },
  {
   "cell_type": "code",
   "execution_count": 20,
   "metadata": {},
   "outputs": [
    {
     "data": {
      "text/plain": [
       "0.43209876543209874"
      ]
     },
     "execution_count": 20,
     "metadata": {},
     "output_type": "execute_result"
    }
   ],
   "source": [
    "#Taxa de acerto\n",
    "\n",
    "taxa_acerto_nv = accuracy_score(y_teste, previsoes_nv)\n",
    "taxa_erro_nv = 1 - taxa_acerto_nv\n",
    "taxa_acerto_nv"
   ]
  },
  {
   "cell_type": "code",
   "execution_count": 35,
   "metadata": {},
   "outputs": [
    {
     "data": {
      "text/html": [
       "<style>#sk-container-id-6 {color: black;background-color: white;}#sk-container-id-6 pre{padding: 0;}#sk-container-id-6 div.sk-toggleable {background-color: white;}#sk-container-id-6 label.sk-toggleable__label {cursor: pointer;display: block;width: 100%;margin-bottom: 0;padding: 0.3em;box-sizing: border-box;text-align: center;}#sk-container-id-6 label.sk-toggleable__label-arrow:before {content: \"▸\";float: left;margin-right: 0.25em;color: #696969;}#sk-container-id-6 label.sk-toggleable__label-arrow:hover:before {color: black;}#sk-container-id-6 div.sk-estimator:hover label.sk-toggleable__label-arrow:before {color: black;}#sk-container-id-6 div.sk-toggleable__content {max-height: 0;max-width: 0;overflow: hidden;text-align: left;background-color: #f0f8ff;}#sk-container-id-6 div.sk-toggleable__content pre {margin: 0.2em;color: black;border-radius: 0.25em;background-color: #f0f8ff;}#sk-container-id-6 input.sk-toggleable__control:checked~div.sk-toggleable__content {max-height: 200px;max-width: 100%;overflow: auto;}#sk-container-id-6 input.sk-toggleable__control:checked~label.sk-toggleable__label-arrow:before {content: \"▾\";}#sk-container-id-6 div.sk-estimator input.sk-toggleable__control:checked~label.sk-toggleable__label {background-color: #d4ebff;}#sk-container-id-6 div.sk-label input.sk-toggleable__control:checked~label.sk-toggleable__label {background-color: #d4ebff;}#sk-container-id-6 input.sk-hidden--visually {border: 0;clip: rect(1px 1px 1px 1px);clip: rect(1px, 1px, 1px, 1px);height: 1px;margin: -1px;overflow: hidden;padding: 0;position: absolute;width: 1px;}#sk-container-id-6 div.sk-estimator {font-family: monospace;background-color: #f0f8ff;border: 1px dotted black;border-radius: 0.25em;box-sizing: border-box;margin-bottom: 0.5em;}#sk-container-id-6 div.sk-estimator:hover {background-color: #d4ebff;}#sk-container-id-6 div.sk-parallel-item::after {content: \"\";width: 100%;border-bottom: 1px solid gray;flex-grow: 1;}#sk-container-id-6 div.sk-label:hover label.sk-toggleable__label {background-color: #d4ebff;}#sk-container-id-6 div.sk-serial::before {content: \"\";position: absolute;border-left: 1px solid gray;box-sizing: border-box;top: 0;bottom: 0;left: 50%;z-index: 0;}#sk-container-id-6 div.sk-serial {display: flex;flex-direction: column;align-items: center;background-color: white;padding-right: 0.2em;padding-left: 0.2em;position: relative;}#sk-container-id-6 div.sk-item {position: relative;z-index: 1;}#sk-container-id-6 div.sk-parallel {display: flex;align-items: stretch;justify-content: center;background-color: white;position: relative;}#sk-container-id-6 div.sk-item::before, #sk-container-id-6 div.sk-parallel-item::before {content: \"\";position: absolute;border-left: 1px solid gray;box-sizing: border-box;top: 0;bottom: 0;left: 50%;z-index: -1;}#sk-container-id-6 div.sk-parallel-item {display: flex;flex-direction: column;z-index: 1;position: relative;background-color: white;}#sk-container-id-6 div.sk-parallel-item:first-child::after {align-self: flex-end;width: 50%;}#sk-container-id-6 div.sk-parallel-item:last-child::after {align-self: flex-start;width: 50%;}#sk-container-id-6 div.sk-parallel-item:only-child::after {width: 0;}#sk-container-id-6 div.sk-dashed-wrapped {border: 1px dashed gray;margin: 0 0.4em 0.5em 0.4em;box-sizing: border-box;padding-bottom: 0.4em;background-color: white;}#sk-container-id-6 div.sk-label label {font-family: monospace;font-weight: bold;display: inline-block;line-height: 1.2em;}#sk-container-id-6 div.sk-label-container {text-align: center;}#sk-container-id-6 div.sk-container {/* jupyter's `normalize.less` sets `[hidden] { display: none; }` but bootstrap.min.css set `[hidden] { display: none !important; }` so we also need the `!important` here to be able to override the default hidden behavior on the sphinx rendered scikit-learn.org. See: https://github.com/scikit-learn/scikit-learn/issues/21755 */display: inline-block !important;position: relative;}#sk-container-id-6 div.sk-text-repr-fallback {display: none;}</style><div id=\"sk-container-id-6\" class=\"sk-top-container\"><div class=\"sk-text-repr-fallback\"><pre>DecisionTreeClassifier()</pre><b>In a Jupyter environment, please rerun this cell to show the HTML representation or trust the notebook. <br />On GitHub, the HTML representation is unable to render, please try loading this page with nbviewer.org.</b></div><div class=\"sk-container\" hidden><div class=\"sk-item\"><div class=\"sk-estimator sk-toggleable\"><input class=\"sk-toggleable__control sk-hidden--visually\" id=\"sk-estimator-id-6\" type=\"checkbox\" checked><label for=\"sk-estimator-id-6\" class=\"sk-toggleable__label sk-toggleable__label-arrow\">DecisionTreeClassifier</label><div class=\"sk-toggleable__content\"><pre>DecisionTreeClassifier()</pre></div></div></div></div></div>"
      ],
      "text/plain": [
       "DecisionTreeClassifier()"
      ]
     },
     "execution_count": 35,
     "metadata": {},
     "output_type": "execute_result"
    }
   ],
   "source": [
    "#Agora utilizarei a árvore de decisão\n",
    "\n",
    "arvore = DecisionTreeClassifier()\n",
    "arvore.fit(x_treino, y_treino)"
   ]
  },
  {
   "cell_type": "code",
   "execution_count": 36,
   "metadata": {},
   "outputs": [
    {
     "data": {
      "text/plain": [
       "array(['VITORIA', 'VITORIA', 'VITORIA', 'VITORIA', 'EMPATE', 'VITORIA',\n",
       "       'VITORIA', 'DERROTA', 'DERROTA', 'DERROTA', 'DERROTA', 'DERROTA',\n",
       "       'DERROTA', 'DERROTA', 'VITORIA', 'EMPATE', 'DERROTA', 'DERROTA',\n",
       "       'DERROTA', 'DERROTA', 'EMPATE', 'VITORIA', 'EMPATE', 'VITORIA',\n",
       "       'VITORIA', 'DERROTA', 'VITORIA', 'VITORIA', 'DERROTA', 'EMPATE',\n",
       "       'VITORIA', 'VITORIA', 'VITORIA', 'VITORIA', 'DERROTA', 'EMPATE',\n",
       "       'VITORIA', 'EMPATE', 'DERROTA', 'DERROTA', 'VITORIA', 'DERROTA',\n",
       "       'EMPATE', 'VITORIA', 'EMPATE', 'DERROTA', 'VITORIA', 'DERROTA',\n",
       "       'VITORIA', 'VITORIA', 'VITORIA', 'VITORIA', 'EMPATE', 'VITORIA',\n",
       "       'VITORIA', 'EMPATE', 'VITORIA', 'EMPATE', 'VITORIA', 'VITORIA',\n",
       "       'VITORIA', 'DERROTA', 'DERROTA', 'EMPATE', 'DERROTA', 'VITORIA',\n",
       "       'VITORIA', 'VITORIA', 'VITORIA', 'VITORIA', 'EMPATE', 'EMPATE',\n",
       "       'EMPATE', 'EMPATE', 'EMPATE', 'VITORIA', 'VITORIA', 'VITORIA',\n",
       "       'VITORIA', 'EMPATE', 'EMPATE'], dtype=object)"
      ]
     },
     "execution_count": 36,
     "metadata": {},
     "output_type": "execute_result"
    }
   ],
   "source": [
    "previsoes_ar = arvore.predict(x_teste)\n",
    "previsoes_ar"
   ]
  },
  {
   "cell_type": "code",
   "execution_count": 37,
   "metadata": {},
   "outputs": [
    {
     "data": {
      "text/plain": [
       "array([[ 9,  7, 10],\n",
       "       [ 3,  5, 13],\n",
       "       [ 4,  9, 21]], dtype=int64)"
      ]
     },
     "execution_count": 37,
     "metadata": {},
     "output_type": "execute_result"
    }
   ],
   "source": [
    "#Matrix de confusão\n",
    "\n",
    "matrix_ar = confusion_matrix(y_teste, previsoes_nv)\n",
    "matrix_ar"
   ]
  },
  {
   "cell_type": "code",
   "execution_count": 38,
   "metadata": {},
   "outputs": [
    {
     "data": {
      "image/png": "[encoded data removed]",
      "text/plain": [
       "<Figure size 800x550 with 1 Axes>"
      ]
     },
     "metadata": {},
     "output_type": "display_data"
    },
    {
     "data": {
      "text/plain": [
       "<AxesSubplot:title={'center':'DecisionTreeClassifier Confusion Matrix'}, xlabel='Predicted Class', ylabel='True Class'>"
      ]
     },
     "execution_count": 38,
     "metadata": {},
     "output_type": "execute_result"
    }
   ],
   "source": [
    "v = ConfusionMatrix(DecisionTreeClassifier())\n",
    "v.fit(x_treino, y_treino)\n",
    "v.score(x_teste, y_teste)\n",
    "v.poof()"
   ]
  },
  {
   "cell_type": "code",
   "execution_count": 39,
   "metadata": {},
   "outputs": [
    {
     "data": {
      "text/plain": [
       "0.35802469135802467"
      ]
     },
     "execution_count": 39,
     "metadata": {},
     "output_type": "execute_result"
    }
   ],
   "source": [
    "taxa_acerto_ar = accuracy_score(y_teste, previsoes_ar)\n",
    "taxa_acerto_ar"
   ]
  },
  {
   "cell_type": "code",
   "execution_count": 70,
   "metadata": {},
   "outputs": [
    {
     "data": {
      "text/html": [
       "<style>#sk-container-id-13 {color: black;background-color: white;}#sk-container-id-13 pre{padding: 0;}#sk-container-id-13 div.sk-toggleable {background-color: white;}#sk-container-id-13 label.sk-toggleable__label {cursor: pointer;display: block;width: 100%;margin-bottom: 0;padding: 0.3em;box-sizing: border-box;text-align: center;}#sk-container-id-13 label.sk-toggleable__label-arrow:before {content: \"▸\";float: left;margin-right: 0.25em;color: #696969;}#sk-container-id-13 label.sk-toggleable__label-arrow:hover:before {color: black;}#sk-container-id-13 div.sk-estimator:hover label.sk-toggleable__label-arrow:before {color: black;}#sk-container-id-13 div.sk-toggleable__content {max-height: 0;max-width: 0;overflow: hidden;text-align: left;background-color: #f0f8ff;}#sk-container-id-13 div.sk-toggleable__content pre {margin: 0.2em;color: black;border-radius: 0.25em;background-color: #f0f8ff;}#sk-container-id-13 input.sk-toggleable__control:checked~div.sk-toggleable__content {max-height: 200px;max-width: 100%;overflow: auto;}#sk-container-id-13 input.sk-toggleable__control:checked~label.sk-toggleable__label-arrow:before {content: \"▾\";}#sk-container-id-13 div.sk-estimator input.sk-toggleable__control:checked~label.sk-toggleable__label {background-color: #d4ebff;}#sk-container-id-13 div.sk-label input.sk-toggleable__control:checked~label.sk-toggleable__label {background-color: #d4ebff;}#sk-container-id-13 input.sk-hidden--visually {border: 0;clip: rect(1px 1px 1px 1px);clip: rect(1px, 1px, 1px, 1px);height: 1px;margin: -1px;overflow: hidden;padding: 0;position: absolute;width: 1px;}#sk-container-id-13 div.sk-estimator {font-family: monospace;background-color: #f0f8ff;border: 1px dotted black;border-radius: 0.25em;box-sizing: border-box;margin-bottom: 0.5em;}#sk-container-id-13 div.sk-estimator:hover {background-color: #d4ebff;}#sk-container-id-13 div.sk-parallel-item::after {content: \"\";width: 100%;border-bottom: 1px solid gray;flex-grow: 1;}#sk-container-id-13 div.sk-label:hover label.sk-toggleable__label {background-color: #d4ebff;}#sk-container-id-13 div.sk-serial::before {content: \"\";position: absolute;border-left: 1px solid gray;box-sizing: border-box;top: 0;bottom: 0;left: 50%;z-index: 0;}#sk-container-id-13 div.sk-serial {display: flex;flex-direction: column;align-items: center;background-color: white;padding-right: 0.2em;padding-left: 0.2em;position: relative;}#sk-container-id-13 div.sk-item {position: relative;z-index: 1;}#sk-container-id-13 div.sk-parallel {display: flex;align-items: stretch;justify-content: center;background-color: white;position: relative;}#sk-container-id-13 div.sk-item::before, #sk-container-id-13 div.sk-parallel-item::before {content: \"\";position: absolute;border-left: 1px solid gray;box-sizing: border-box;top: 0;bottom: 0;left: 50%;z-index: -1;}#sk-container-id-13 div.sk-parallel-item {display: flex;flex-direction: column;z-index: 1;position: relative;background-color: white;}#sk-container-id-13 div.sk-parallel-item:first-child::after {align-self: flex-end;width: 50%;}#sk-container-id-13 div.sk-parallel-item:last-child::after {align-self: flex-start;width: 50%;}#sk-container-id-13 div.sk-parallel-item:only-child::after {width: 0;}#sk-container-id-13 div.sk-dashed-wrapped {border: 1px dashed gray;margin: 0 0.4em 0.5em 0.4em;box-sizing: border-box;padding-bottom: 0.4em;background-color: white;}#sk-container-id-13 div.sk-label label {font-family: monospace;font-weight: bold;display: inline-block;line-height: 1.2em;}#sk-container-id-13 div.sk-label-container {text-align: center;}#sk-container-id-13 div.sk-container {/* jupyter's `normalize.less` sets `[hidden] { display: none; }` but bootstrap.min.css set `[hidden] { display: none !important; }` so we also need the `!important` here to be able to override the default hidden behavior on the sphinx rendered scikit-learn.org. See: https://github.com/scikit-learn/scikit-learn/issues/21755 */display: inline-block !important;position: relative;}#sk-container-id-13 div.sk-text-repr-fallback {display: none;}</style><div id=\"sk-container-id-13\" class=\"sk-top-container\"><div class=\"sk-text-repr-fallback\"><pre>KNeighborsClassifier(n_neighbors=4)</pre><b>In a Jupyter environment, please rerun this cell to show the HTML representation or trust the notebook. <br />On GitHub, the HTML representation is unable to render, please try loading this page with nbviewer.org.</b></div><div class=\"sk-container\" hidden><div class=\"sk-item\"><div class=\"sk-estimator sk-toggleable\"><input class=\"sk-toggleable__control sk-hidden--visually\" id=\"sk-estimator-id-13\" type=\"checkbox\" checked><label for=\"sk-estimator-id-13\" class=\"sk-toggleable__label sk-toggleable__label-arrow\">KNeighborsClassifier</label><div class=\"sk-toggleable__content\"><pre>KNeighborsClassifier(n_neighbors=4)</pre></div></div></div></div></div>"
      ],
      "text/plain": [
       "KNeighborsClassifier(n_neighbors=4)"
      ]
     },
     "execution_count": 70,
     "metadata": {},
     "output_type": "execute_result"
    }
   ],
   "source": [
    "#Usando o KNeighbors\n",
    "\n",
    "modelo_kn = KNeighborsClassifier(n_neighbors=4)\n",
    "modelo_kn.fit(x_treino, y_treino)"
   ]
  },
  {
   "cell_type": "code",
   "execution_count": 71,
   "metadata": {},
   "outputs": [
    {
     "data": {
      "text/plain": [
       "array(['VITORIA', 'DERROTA', 'DERROTA', 'DERROTA', 'DERROTA', 'EMPATE',\n",
       "       'VITORIA', 'VITORIA', 'VITORIA', 'VITORIA', 'VITORIA', 'VITORIA',\n",
       "       'VITORIA', 'DERROTA', 'VITORIA', 'DERROTA', 'VITORIA', 'DERROTA',\n",
       "       'DERROTA', 'VITORIA', 'DERROTA', 'DERROTA', 'EMPATE', 'DERROTA',\n",
       "       'VITORIA', 'DERROTA', 'DERROTA', 'VITORIA', 'DERROTA', 'DERROTA',\n",
       "       'VITORIA', 'VITORIA', 'DERROTA', 'VITORIA', 'VITORIA', 'VITORIA',\n",
       "       'VITORIA', 'VITORIA', 'VITORIA', 'VITORIA', 'DERROTA', 'VITORIA',\n",
       "       'EMPATE', 'EMPATE', 'VITORIA', 'EMPATE', 'VITORIA', 'VITORIA',\n",
       "       'DERROTA', 'DERROTA', 'EMPATE', 'DERROTA', 'DERROTA', 'VITORIA',\n",
       "       'VITORIA', 'VITORIA', 'VITORIA', 'EMPATE', 'VITORIA', 'VITORIA',\n",
       "       'EMPATE', 'VITORIA', 'DERROTA', 'VITORIA', 'DERROTA', 'VITORIA',\n",
       "       'VITORIA', 'DERROTA', 'DERROTA', 'DERROTA', 'EMPATE', 'VITORIA',\n",
       "       'DERROTA', 'DERROTA', 'EMPATE', 'VITORIA', 'EMPATE', 'VITORIA',\n",
       "       'VITORIA', 'DERROTA', 'VITORIA'], dtype=object)"
      ]
     },
     "execution_count": 71,
     "metadata": {},
     "output_type": "execute_result"
    }
   ],
   "source": [
    "previsoes_kn = modelo_kn.predict(x_teste)\n",
    "previsoes_kn"
   ]
  },
  {
   "cell_type": "code",
   "execution_count": 72,
   "metadata": {},
   "outputs": [
    {
     "data": {
      "image/png": "[encoded data removed]",
      "text/plain": [
       "<Figure size 800x550 with 1 Axes>"
      ]
     },
     "metadata": {},
     "output_type": "display_data"
    },
    {
     "data": {
      "text/plain": [
       "<AxesSubplot:title={'center':'KNeighborsClassifier Confusion Matrix'}, xlabel='Predicted Class', ylabel='True Class'>"
      ]
     },
     "execution_count": 72,
     "metadata": {},
     "output_type": "execute_result"
    }
   ],
   "source": [
    "#Matrix de confusão\n",
    "\n",
    "v = ConfusionMatrix(KNeighborsClassifier())\n",
    "v.fit(x_treino, y_treino)\n",
    "v.score(x_teste, y_teste)\n",
    "v.poof()"
   ]
  },
  {
   "cell_type": "code",
   "execution_count": 73,
   "metadata": {},
   "outputs": [
    {
     "data": {
      "text/plain": [
       "0.38271604938271603"
      ]
     },
     "execution_count": 73,
     "metadata": {},
     "output_type": "execute_result"
    }
   ],
   "source": [
    "taxa_acerto_kn = accuracy_score(y_teste, previsoes_kn)\n",
    "taxa_acerto_kn"
   ]
  },
  {
   "cell_type": "code",
   "execution_count": 130,
   "metadata": {},
   "outputs": [
    {
     "data": {
      "text/html": [
       "<style>#sk-container-id-25 {color: black;background-color: white;}#sk-container-id-25 pre{padding: 0;}#sk-container-id-25 div.sk-toggleable {background-color: white;}#sk-container-id-25 label.sk-toggleable__label {cursor: pointer;display: block;width: 100%;margin-bottom: 0;padding: 0.3em;box-sizing: border-box;text-align: center;}#sk-container-id-25 label.sk-toggleable__label-arrow:before {content: \"▸\";float: left;margin-right: 0.25em;color: #696969;}#sk-container-id-25 label.sk-toggleable__label-arrow:hover:before {color: black;}#sk-container-id-25 div.sk-estimator:hover label.sk-toggleable__label-arrow:before {color: black;}#sk-container-id-25 div.sk-toggleable__content {max-height: 0;max-width: 0;overflow: hidden;text-align: left;background-color: #f0f8ff;}#sk-container-id-25 div.sk-toggleable__content pre {margin: 0.2em;color: black;border-radius: 0.25em;background-color: #f0f8ff;}#sk-container-id-25 input.sk-toggleable__control:checked~div.sk-toggleable__content {max-height: 200px;max-width: 100%;overflow: auto;}#sk-container-id-25 input.sk-toggleable__control:checked~label.sk-toggleable__label-arrow:before {content: \"▾\";}#sk-container-id-25 div.sk-estimator input.sk-toggleable__control:checked~label.sk-toggleable__label {background-color: #d4ebff;}#sk-container-id-25 div.sk-label input.sk-toggleable__control:checked~label.sk-toggleable__label {background-color: #d4ebff;}#sk-container-id-25 input.sk-hidden--visually {border: 0;clip: rect(1px 1px 1px 1px);clip: rect(1px, 1px, 1px, 1px);height: 1px;margin: -1px;overflow: hidden;padding: 0;position: absolute;width: 1px;}#sk-container-id-25 div.sk-estimator {font-family: monospace;background-color: #f0f8ff;border: 1px dotted black;border-radius: 0.25em;box-sizing: border-box;margin-bottom: 0.5em;}#sk-container-id-25 div.sk-estimator:hover {background-color: #d4ebff;}#sk-container-id-25 div.sk-parallel-item::after {content: \"\";width: 100%;border-bottom: 1px solid gray;flex-grow: 1;}#sk-container-id-25 div.sk-label:hover label.sk-toggleable__label {background-color: #d4ebff;}#sk-container-id-25 div.sk-serial::before {content: \"\";position: absolute;border-left: 1px solid gray;box-sizing: border-box;top: 0;bottom: 0;left: 50%;z-index: 0;}#sk-container-id-25 div.sk-serial {display: flex;flex-direction: column;align-items: center;background-color: white;padding-right: 0.2em;padding-left: 0.2em;position: relative;}#sk-container-id-25 div.sk-item {position: relative;z-index: 1;}#sk-container-id-25 div.sk-parallel {display: flex;align-items: stretch;justify-content: center;background-color: white;position: relative;}#sk-container-id-25 div.sk-item::before, #sk-container-id-25 div.sk-parallel-item::before {content: \"\";position: absolute;border-left: 1px solid gray;box-sizing: border-box;top: 0;bottom: 0;left: 50%;z-index: -1;}#sk-container-id-25 div.sk-parallel-item {display: flex;flex-direction: column;z-index: 1;position: relative;background-color: white;}#sk-container-id-25 div.sk-parallel-item:first-child::after {align-self: flex-end;width: 50%;}#sk-container-id-25 div.sk-parallel-item:last-child::after {align-self: flex-start;width: 50%;}#sk-container-id-25 div.sk-parallel-item:only-child::after {width: 0;}#sk-container-id-25 div.sk-dashed-wrapped {border: 1px dashed gray;margin: 0 0.4em 0.5em 0.4em;box-sizing: border-box;padding-bottom: 0.4em;background-color: white;}#sk-container-id-25 div.sk-label label {font-family: monospace;font-weight: bold;display: inline-block;line-height: 1.2em;}#sk-container-id-25 div.sk-label-container {text-align: center;}#sk-container-id-25 div.sk-container {/* jupyter's `normalize.less` sets `[hidden] { display: none; }` but bootstrap.min.css set `[hidden] { display: none !important; }` so we also need the `!important` here to be able to override the default hidden behavior on the sphinx rendered scikit-learn.org. See: https://github.com/scikit-learn/scikit-learn/issues/21755 */display: inline-block !important;position: relative;}#sk-container-id-25 div.sk-text-repr-fallback {display: none;}</style><div id=\"sk-container-id-25\" class=\"sk-top-container\"><div class=\"sk-text-repr-fallback\"><pre>RandomForestClassifier(n_estimators=300)</pre><b>In a Jupyter environment, please rerun this cell to show the HTML representation or trust the notebook. <br />On GitHub, the HTML representation is unable to render, please try loading this page with nbviewer.org.</b></div><div class=\"sk-container\" hidden><div class=\"sk-item\"><div class=\"sk-estimator sk-toggleable\"><input class=\"sk-toggleable__control sk-hidden--visually\" id=\"sk-estimator-id-25\" type=\"checkbox\" checked><label for=\"sk-estimator-id-25\" class=\"sk-toggleable__label sk-toggleable__label-arrow\">RandomForestClassifier</label><div class=\"sk-toggleable__content\"><pre>RandomForestClassifier(n_estimators=300)</pre></div></div></div></div></div>"
      ],
      "text/plain": [
       "RandomForestClassifier(n_estimators=300)"
      ]
     },
     "execution_count": 130,
     "metadata": {},
     "output_type": "execute_result"
    }
   ],
   "source": [
    "#Usando a floresta aleatória / RandomForest\n",
    "\n",
    "modelo_rf = RandomForestClassifier(n_estimators=300)\n",
    "modelo_rf.fit(x_treino, y_treino)"
   ]
  },
  {
   "cell_type": "code",
   "execution_count": 131,
   "metadata": {},
   "outputs": [
    {
     "data": {
      "text/plain": [
       "[DecisionTreeClassifier(max_features='sqrt', random_state=1522693653),\n",
       " DecisionTreeClassifier(max_features='sqrt', random_state=765469655),\n",
       " DecisionTreeClassifier(max_features='sqrt', random_state=1646373661),\n",
       " DecisionTreeClassifier(max_features='sqrt', random_state=986104312),\n",
       " DecisionTreeClassifier(max_features='sqrt', random_state=2137482557),\n",
       " DecisionTreeClassifier(max_features='sqrt', random_state=147062921),\n",
       " DecisionTreeClassifier(max_features='sqrt', random_state=498430206),\n",
       " DecisionTreeClassifier(max_features='sqrt', random_state=1071138525),\n",
       " DecisionTreeClassifier(max_features='sqrt', random_state=1181187558),\n",
       " DecisionTreeClassifier(max_features='sqrt', random_state=997761064),\n",
       " DecisionTreeClassifier(max_features='sqrt', random_state=605798135),\n",
       " DecisionTreeClassifier(max_features='sqrt', random_state=774927891),\n",
       " DecisionTreeClassifier(max_features='sqrt', random_state=1618844280),\n",
       " DecisionTreeClassifier(max_features='sqrt', random_state=461668627),\n",
       " DecisionTreeClassifier(max_features='sqrt', random_state=723090361),\n",
       " DecisionTreeClassifier(max_features='sqrt', random_state=371121379),\n",
       " DecisionTreeClassifier(max_features='sqrt', random_state=1611315052),\n",
       " DecisionTreeClassifier(max_features='sqrt', random_state=424570915),\n",
       " DecisionTreeClassifier(max_features='sqrt', random_state=950096627),\n",
       " DecisionTreeClassifier(max_features='sqrt', random_state=1268620480),\n",
       " DecisionTreeClassifier(max_features='sqrt', random_state=1903528817),\n",
       " DecisionTreeClassifier(max_features='sqrt', random_state=397605327),\n",
       " DecisionTreeClassifier(max_features='sqrt', random_state=1590016645),\n",
       " DecisionTreeClassifier(max_features='sqrt', random_state=1978637386),\n",
       " DecisionTreeClassifier(max_features='sqrt', random_state=2113232310),\n",
       " DecisionTreeClassifier(max_features='sqrt', random_state=2014636583),\n",
       " DecisionTreeClassifier(max_features='sqrt', random_state=780127265),\n",
       " DecisionTreeClassifier(max_features='sqrt', random_state=648722382),\n",
       " DecisionTreeClassifier(max_features='sqrt', random_state=1840751178),\n",
       " DecisionTreeClassifier(max_features='sqrt', random_state=1662209250),\n",
       " DecisionTreeClassifier(max_features='sqrt', random_state=1131723691),\n",
       " DecisionTreeClassifier(max_features='sqrt', random_state=957523690),\n",
       " DecisionTreeClassifier(max_features='sqrt', random_state=68525183),\n",
       " DecisionTreeClassifier(max_features='sqrt', random_state=626821329),\n",
       " DecisionTreeClassifier(max_features='sqrt', random_state=1276202766),\n",
       " DecisionTreeClassifier(max_features='sqrt', random_state=1224620344),\n",
       " DecisionTreeClassifier(max_features='sqrt', random_state=1575745828),\n",
       " DecisionTreeClassifier(max_features='sqrt', random_state=248051540),\n",
       " DecisionTreeClassifier(max_features='sqrt', random_state=801131427),\n",
       " DecisionTreeClassifier(max_features='sqrt', random_state=1519352444),\n",
       " DecisionTreeClassifier(max_features='sqrt', random_state=1296299562),\n",
       " DecisionTreeClassifier(max_features='sqrt', random_state=2058216283),\n",
       " DecisionTreeClassifier(max_features='sqrt', random_state=1894688917),\n",
       " DecisionTreeClassifier(max_features='sqrt', random_state=304435533),\n",
       " DecisionTreeClassifier(max_features='sqrt', random_state=1934983639),\n",
       " DecisionTreeClassifier(max_features='sqrt', random_state=1640646546),\n",
       " DecisionTreeClassifier(max_features='sqrt', random_state=248793622),\n",
       " DecisionTreeClassifier(max_features='sqrt', random_state=1669143723),\n",
       " DecisionTreeClassifier(max_features='sqrt', random_state=1233881873),\n",
       " DecisionTreeClassifier(max_features='sqrt', random_state=1280696599),\n",
       " DecisionTreeClassifier(max_features='sqrt', random_state=629301848),\n",
       " DecisionTreeClassifier(max_features='sqrt', random_state=1471683341),\n",
       " DecisionTreeClassifier(max_features='sqrt', random_state=1445602787),\n",
       " DecisionTreeClassifier(max_features='sqrt', random_state=1448351177),\n",
       " DecisionTreeClassifier(max_features='sqrt', random_state=410478568),\n",
       " DecisionTreeClassifier(max_features='sqrt', random_state=1923468197),\n",
       " DecisionTreeClassifier(max_features='sqrt', random_state=1081128148),\n",
       " DecisionTreeClassifier(max_features='sqrt', random_state=1861697558),\n",
       " DecisionTreeClassifier(max_features='sqrt', random_state=1459429611),\n",
       " DecisionTreeClassifier(max_features='sqrt', random_state=885271171),\n",
       " DecisionTreeClassifier(max_features='sqrt', random_state=373145708),\n",
       " DecisionTreeClassifier(max_features='sqrt', random_state=239977436),\n",
       " DecisionTreeClassifier(max_features='sqrt', random_state=978366094),\n",
       " DecisionTreeClassifier(max_features='sqrt', random_state=10273277),\n",
       " DecisionTreeClassifier(max_features='sqrt', random_state=772178445),\n",
       " DecisionTreeClassifier(max_features='sqrt', random_state=1369449570),\n",
       " DecisionTreeClassifier(max_features='sqrt', random_state=475952775),\n",
       " DecisionTreeClassifier(max_features='sqrt', random_state=1455928057),\n",
       " DecisionTreeClassifier(max_features='sqrt', random_state=588367025),\n",
       " DecisionTreeClassifier(max_features='sqrt', random_state=936168462),\n",
       " DecisionTreeClassifier(max_features='sqrt', random_state=1250382713),\n",
       " DecisionTreeClassifier(max_features='sqrt', random_state=1384562952),\n",
       " DecisionTreeClassifier(max_features='sqrt', random_state=659911050),\n",
       " DecisionTreeClassifier(max_features='sqrt', random_state=2109988374),\n",
       " DecisionTreeClassifier(max_features='sqrt', random_state=2130703751),\n",
       " DecisionTreeClassifier(max_features='sqrt', random_state=1705482774),\n",
       " DecisionTreeClassifier(max_features='sqrt', random_state=1325759875),\n",
       " DecisionTreeClassifier(max_features='sqrt', random_state=555659204),\n",
       " DecisionTreeClassifier(max_features='sqrt', random_state=733372703),\n",
       " DecisionTreeClassifier(max_features='sqrt', random_state=890721608),\n",
       " DecisionTreeClassifier(max_features='sqrt', random_state=1562360542),\n",
       " DecisionTreeClassifier(max_features='sqrt', random_state=758739664),\n",
       " DecisionTreeClassifier(max_features='sqrt', random_state=1136455776),\n",
       " DecisionTreeClassifier(max_features='sqrt', random_state=313554761),\n",
       " DecisionTreeClassifier(max_features='sqrt', random_state=44332488),\n",
       " DecisionTreeClassifier(max_features='sqrt', random_state=178477499),\n",
       " DecisionTreeClassifier(max_features='sqrt', random_state=1469478279),\n",
       " DecisionTreeClassifier(max_features='sqrt', random_state=1614686989),\n",
       " DecisionTreeClassifier(max_features='sqrt', random_state=1764444426),\n",
       " DecisionTreeClassifier(max_features='sqrt', random_state=289853308),\n",
       " DecisionTreeClassifier(max_features='sqrt', random_state=7548480),\n",
       " DecisionTreeClassifier(max_features='sqrt', random_state=1124034687),\n",
       " DecisionTreeClassifier(max_features='sqrt', random_state=1948673491),\n",
       " DecisionTreeClassifier(max_features='sqrt', random_state=1883046056),\n",
       " DecisionTreeClassifier(max_features='sqrt', random_state=5123592),\n",
       " DecisionTreeClassifier(max_features='sqrt', random_state=433565681),\n",
       " DecisionTreeClassifier(max_features='sqrt', random_state=500105506),\n",
       " DecisionTreeClassifier(max_features='sqrt', random_state=1503614468),\n",
       " DecisionTreeClassifier(max_features='sqrt', random_state=20845730),\n",
       " DecisionTreeClassifier(max_features='sqrt', random_state=999701194),\n",
       " DecisionTreeClassifier(max_features='sqrt', random_state=980152232),\n",
       " DecisionTreeClassifier(max_features='sqrt', random_state=320091430),\n",
       " DecisionTreeClassifier(max_features='sqrt', random_state=1312580971),\n",
       " DecisionTreeClassifier(max_features='sqrt', random_state=1468384012),\n",
       " DecisionTreeClassifier(max_features='sqrt', random_state=150070827),\n",
       " DecisionTreeClassifier(max_features='sqrt', random_state=202536954),\n",
       " DecisionTreeClassifier(max_features='sqrt', random_state=123904201),\n",
       " DecisionTreeClassifier(max_features='sqrt', random_state=1201045119),\n",
       " DecisionTreeClassifier(max_features='sqrt', random_state=1064785934),\n",
       " DecisionTreeClassifier(max_features='sqrt', random_state=89828746),\n",
       " DecisionTreeClassifier(max_features='sqrt', random_state=1041210085),\n",
       " DecisionTreeClassifier(max_features='sqrt', random_state=2003900129),\n",
       " DecisionTreeClassifier(max_features='sqrt', random_state=1185648450),\n",
       " DecisionTreeClassifier(max_features='sqrt', random_state=909748281),\n",
       " DecisionTreeClassifier(max_features='sqrt', random_state=444615290),\n",
       " DecisionTreeClassifier(max_features='sqrt', random_state=2034925053),\n",
       " DecisionTreeClassifier(max_features='sqrt', random_state=2142451232),\n",
       " DecisionTreeClassifier(max_features='sqrt', random_state=1027688811),\n",
       " DecisionTreeClassifier(max_features='sqrt', random_state=869953056),\n",
       " DecisionTreeClassifier(max_features='sqrt', random_state=987609457),\n",
       " DecisionTreeClassifier(max_features='sqrt', random_state=1573931024),\n",
       " DecisionTreeClassifier(max_features='sqrt', random_state=540868613),\n",
       " DecisionTreeClassifier(max_features='sqrt', random_state=1801629822),\n",
       " DecisionTreeClassifier(max_features='sqrt', random_state=452952559),\n",
       " DecisionTreeClassifier(max_features='sqrt', random_state=1172589448),\n",
       " DecisionTreeClassifier(max_features='sqrt', random_state=920682927),\n",
       " DecisionTreeClassifier(max_features='sqrt', random_state=126873426),\n",
       " DecisionTreeClassifier(max_features='sqrt', random_state=2069524313),\n",
       " DecisionTreeClassifier(max_features='sqrt', random_state=714635387),\n",
       " DecisionTreeClassifier(max_features='sqrt', random_state=1097193888),\n",
       " DecisionTreeClassifier(max_features='sqrt', random_state=1967376634),\n",
       " DecisionTreeClassifier(max_features='sqrt', random_state=1356744122),\n",
       " DecisionTreeClassifier(max_features='sqrt', random_state=269123227),\n",
       " DecisionTreeClassifier(max_features='sqrt', random_state=77463964),\n",
       " DecisionTreeClassifier(max_features='sqrt', random_state=917043238),\n",
       " DecisionTreeClassifier(max_features='sqrt', random_state=1793728849),\n",
       " DecisionTreeClassifier(max_features='sqrt', random_state=1007821533),\n",
       " DecisionTreeClassifier(max_features='sqrt', random_state=1667123196),\n",
       " DecisionTreeClassifier(max_features='sqrt', random_state=530901013),\n",
       " DecisionTreeClassifier(max_features='sqrt', random_state=811010012),\n",
       " DecisionTreeClassifier(max_features='sqrt', random_state=2090804679),\n",
       " DecisionTreeClassifier(max_features='sqrt', random_state=958236175),\n",
       " DecisionTreeClassifier(max_features='sqrt', random_state=1526868323),\n",
       " DecisionTreeClassifier(max_features='sqrt', random_state=1522326726),\n",
       " DecisionTreeClassifier(max_features='sqrt', random_state=903341796),\n",
       " DecisionTreeClassifier(max_features='sqrt', random_state=1635891368),\n",
       " DecisionTreeClassifier(max_features='sqrt', random_state=2108006545),\n",
       " DecisionTreeClassifier(max_features='sqrt', random_state=886166052),\n",
       " DecisionTreeClassifier(max_features='sqrt', random_state=460829353),\n",
       " DecisionTreeClassifier(max_features='sqrt', random_state=64322105),\n",
       " DecisionTreeClassifier(max_features='sqrt', random_state=1301036863),\n",
       " DecisionTreeClassifier(max_features='sqrt', random_state=1915383631),\n",
       " DecisionTreeClassifier(max_features='sqrt', random_state=1983169057),\n",
       " DecisionTreeClassifier(max_features='sqrt', random_state=283080177),\n",
       " DecisionTreeClassifier(max_features='sqrt', random_state=1545339557),\n",
       " DecisionTreeClassifier(max_features='sqrt', random_state=737983853),\n",
       " DecisionTreeClassifier(max_features='sqrt', random_state=1758883596),\n",
       " DecisionTreeClassifier(max_features='sqrt', random_state=976917522),\n",
       " DecisionTreeClassifier(max_features='sqrt', random_state=1032654559),\n",
       " DecisionTreeClassifier(max_features='sqrt', random_state=58761765),\n",
       " DecisionTreeClassifier(max_features='sqrt', random_state=581318730),\n",
       " DecisionTreeClassifier(max_features='sqrt', random_state=1462058745),\n",
       " DecisionTreeClassifier(max_features='sqrt', random_state=1897152728),\n",
       " DecisionTreeClassifier(max_features='sqrt', random_state=339034463),\n",
       " DecisionTreeClassifier(max_features='sqrt', random_state=1103709028),\n",
       " DecisionTreeClassifier(max_features='sqrt', random_state=1463099089),\n",
       " DecisionTreeClassifier(max_features='sqrt', random_state=689067097),\n",
       " DecisionTreeClassifier(max_features='sqrt', random_state=151425934),\n",
       " DecisionTreeClassifier(max_features='sqrt', random_state=1599061044),\n",
       " DecisionTreeClassifier(max_features='sqrt', random_state=948465005),\n",
       " DecisionTreeClassifier(max_features='sqrt', random_state=210304934),\n",
       " DecisionTreeClassifier(max_features='sqrt', random_state=78604830),\n",
       " DecisionTreeClassifier(max_features='sqrt', random_state=674167175),\n",
       " DecisionTreeClassifier(max_features='sqrt', random_state=452871658),\n",
       " DecisionTreeClassifier(max_features='sqrt', random_state=960710310),\n",
       " DecisionTreeClassifier(max_features='sqrt', random_state=1949573222),\n",
       " DecisionTreeClassifier(max_features='sqrt', random_state=1322419236),\n",
       " DecisionTreeClassifier(max_features='sqrt', random_state=118579515),\n",
       " DecisionTreeClassifier(max_features='sqrt', random_state=921478072),\n",
       " DecisionTreeClassifier(max_features='sqrt', random_state=1047645819),\n",
       " DecisionTreeClassifier(max_features='sqrt', random_state=1705437774),\n",
       " DecisionTreeClassifier(max_features='sqrt', random_state=852605923),\n",
       " DecisionTreeClassifier(max_features='sqrt', random_state=74914807),\n",
       " DecisionTreeClassifier(max_features='sqrt', random_state=1984173957),\n",
       " DecisionTreeClassifier(max_features='sqrt', random_state=1916642960),\n",
       " DecisionTreeClassifier(max_features='sqrt', random_state=21154980),\n",
       " DecisionTreeClassifier(max_features='sqrt', random_state=459649643),\n",
       " DecisionTreeClassifier(max_features='sqrt', random_state=184952046),\n",
       " DecisionTreeClassifier(max_features='sqrt', random_state=796073518),\n",
       " DecisionTreeClassifier(max_features='sqrt', random_state=1141024391),\n",
       " DecisionTreeClassifier(max_features='sqrt', random_state=1148679131),\n",
       " DecisionTreeClassifier(max_features='sqrt', random_state=447706939),\n",
       " DecisionTreeClassifier(max_features='sqrt', random_state=559223609),\n",
       " DecisionTreeClassifier(max_features='sqrt', random_state=1594388234),\n",
       " DecisionTreeClassifier(max_features='sqrt', random_state=1864855680),\n",
       " DecisionTreeClassifier(max_features='sqrt', random_state=2038734602),\n",
       " DecisionTreeClassifier(max_features='sqrt', random_state=822094677),\n",
       " DecisionTreeClassifier(max_features='sqrt', random_state=681211782),\n",
       " DecisionTreeClassifier(max_features='sqrt', random_state=1532124927),\n",
       " DecisionTreeClassifier(max_features='sqrt', random_state=592560388),\n",
       " DecisionTreeClassifier(max_features='sqrt', random_state=1253855068),\n",
       " DecisionTreeClassifier(max_features='sqrt', random_state=1479025606),\n",
       " DecisionTreeClassifier(max_features='sqrt', random_state=2050105130),\n",
       " DecisionTreeClassifier(max_features='sqrt', random_state=517190740),\n",
       " DecisionTreeClassifier(max_features='sqrt', random_state=1975225407),\n",
       " DecisionTreeClassifier(max_features='sqrt', random_state=1463963042),\n",
       " DecisionTreeClassifier(max_features='sqrt', random_state=449265111),\n",
       " DecisionTreeClassifier(max_features='sqrt', random_state=1753669791),\n",
       " DecisionTreeClassifier(max_features='sqrt', random_state=22456962),\n",
       " DecisionTreeClassifier(max_features='sqrt', random_state=1516239614),\n",
       " DecisionTreeClassifier(max_features='sqrt', random_state=1103067231),\n",
       " DecisionTreeClassifier(max_features='sqrt', random_state=359722602),\n",
       " DecisionTreeClassifier(max_features='sqrt', random_state=1170393744),\n",
       " DecisionTreeClassifier(max_features='sqrt', random_state=1564329176),\n",
       " DecisionTreeClassifier(max_features='sqrt', random_state=1996337234),\n",
       " DecisionTreeClassifier(max_features='sqrt', random_state=2053919689),\n",
       " DecisionTreeClassifier(max_features='sqrt', random_state=928301126),\n",
       " DecisionTreeClassifier(max_features='sqrt', random_state=375602902),\n",
       " DecisionTreeClassifier(max_features='sqrt', random_state=2060121688),\n",
       " DecisionTreeClassifier(max_features='sqrt', random_state=48838632),\n",
       " DecisionTreeClassifier(max_features='sqrt', random_state=232710113),\n",
       " DecisionTreeClassifier(max_features='sqrt', random_state=1202705164),\n",
       " DecisionTreeClassifier(max_features='sqrt', random_state=358171641),\n",
       " DecisionTreeClassifier(max_features='sqrt', random_state=675745227),\n",
       " DecisionTreeClassifier(max_features='sqrt', random_state=658800931),\n",
       " DecisionTreeClassifier(max_features='sqrt', random_state=2014740107),\n",
       " DecisionTreeClassifier(max_features='sqrt', random_state=620512549),\n",
       " DecisionTreeClassifier(max_features='sqrt', random_state=168073383),\n",
       " DecisionTreeClassifier(max_features='sqrt', random_state=638457792),\n",
       " DecisionTreeClassifier(max_features='sqrt', random_state=925857241),\n",
       " DecisionTreeClassifier(max_features='sqrt', random_state=325667174),\n",
       " DecisionTreeClassifier(max_features='sqrt', random_state=34098494),\n",
       " DecisionTreeClassifier(max_features='sqrt', random_state=560261442),\n",
       " DecisionTreeClassifier(max_features='sqrt', random_state=1874362819),\n",
       " DecisionTreeClassifier(max_features='sqrt', random_state=407574990),\n",
       " DecisionTreeClassifier(max_features='sqrt', random_state=1727630805),\n",
       " DecisionTreeClassifier(max_features='sqrt', random_state=1470723971),\n",
       " DecisionTreeClassifier(max_features='sqrt', random_state=1620084323),\n",
       " DecisionTreeClassifier(max_features='sqrt', random_state=1244465172),\n",
       " DecisionTreeClassifier(max_features='sqrt', random_state=1547293577),\n",
       " DecisionTreeClassifier(max_features='sqrt', random_state=659309318),\n",
       " DecisionTreeClassifier(max_features='sqrt', random_state=2067974580),\n",
       " DecisionTreeClassifier(max_features='sqrt', random_state=1755753247),\n",
       " DecisionTreeClassifier(max_features='sqrt', random_state=694747066),\n",
       " DecisionTreeClassifier(max_features='sqrt', random_state=311740016),\n",
       " DecisionTreeClassifier(max_features='sqrt', random_state=1368398041),\n",
       " DecisionTreeClassifier(max_features='sqrt', random_state=285276584),\n",
       " DecisionTreeClassifier(max_features='sqrt', random_state=1908788821),\n",
       " DecisionTreeClassifier(max_features='sqrt', random_state=1399871920),\n",
       " DecisionTreeClassifier(max_features='sqrt', random_state=33480801),\n",
       " DecisionTreeClassifier(max_features='sqrt', random_state=2056870808),\n",
       " DecisionTreeClassifier(max_features='sqrt', random_state=1692721723),\n",
       " DecisionTreeClassifier(max_features='sqrt', random_state=1962227275),\n",
       " DecisionTreeClassifier(max_features='sqrt', random_state=496085539),\n",
       " DecisionTreeClassifier(max_features='sqrt', random_state=328901366),\n",
       " DecisionTreeClassifier(max_features='sqrt', random_state=23834404),\n",
       " DecisionTreeClassifier(max_features='sqrt', random_state=370228408),\n",
       " DecisionTreeClassifier(max_features='sqrt', random_state=1216580774),\n",
       " DecisionTreeClassifier(max_features='sqrt', random_state=1970153291),\n",
       " DecisionTreeClassifier(max_features='sqrt', random_state=863234265),\n",
       " DecisionTreeClassifier(max_features='sqrt', random_state=279018206),\n",
       " DecisionTreeClassifier(max_features='sqrt', random_state=500431477),\n",
       " DecisionTreeClassifier(max_features='sqrt', random_state=468601686),\n",
       " DecisionTreeClassifier(max_features='sqrt', random_state=750683670),\n",
       " DecisionTreeClassifier(max_features='sqrt', random_state=1519753999),\n",
       " DecisionTreeClassifier(max_features='sqrt', random_state=1205200611),\n",
       " DecisionTreeClassifier(max_features='sqrt', random_state=235202630),\n",
       " DecisionTreeClassifier(max_features='sqrt', random_state=922412083),\n",
       " DecisionTreeClassifier(max_features='sqrt', random_state=1301216472),\n",
       " DecisionTreeClassifier(max_features='sqrt', random_state=1848233112),\n",
       " DecisionTreeClassifier(max_features='sqrt', random_state=1571543452),\n",
       " DecisionTreeClassifier(max_features='sqrt', random_state=168783009),\n",
       " DecisionTreeClassifier(max_features='sqrt', random_state=1572990501),\n",
       " DecisionTreeClassifier(max_features='sqrt', random_state=1216187223),\n",
       " DecisionTreeClassifier(max_features='sqrt', random_state=2033963877),\n",
       " DecisionTreeClassifier(max_features='sqrt', random_state=1486571900),\n",
       " DecisionTreeClassifier(max_features='sqrt', random_state=719286682),\n",
       " DecisionTreeClassifier(max_features='sqrt', random_state=1120476850),\n",
       " DecisionTreeClassifier(max_features='sqrt', random_state=818655664),\n",
       " DecisionTreeClassifier(max_features='sqrt', random_state=1611536331),\n",
       " DecisionTreeClassifier(max_features='sqrt', random_state=290036684),\n",
       " DecisionTreeClassifier(max_features='sqrt', random_state=1610667377),\n",
       " DecisionTreeClassifier(max_features='sqrt', random_state=1361632315),\n",
       " DecisionTreeClassifier(max_features='sqrt', random_state=1435997645),\n",
       " DecisionTreeClassifier(max_features='sqrt', random_state=934824243),\n",
       " DecisionTreeClassifier(max_features='sqrt', random_state=683304808),\n",
       " DecisionTreeClassifier(max_features='sqrt', random_state=2123782078),\n",
       " DecisionTreeClassifier(max_features='sqrt', random_state=816776167),\n",
       " DecisionTreeClassifier(max_features='sqrt', random_state=509090487),\n",
       " DecisionTreeClassifier(max_features='sqrt', random_state=534767162),\n",
       " DecisionTreeClassifier(max_features='sqrt', random_state=796195541),\n",
       " DecisionTreeClassifier(max_features='sqrt', random_state=29145608),\n",
       " DecisionTreeClassifier(max_features='sqrt', random_state=2052669484),\n",
       " DecisionTreeClassifier(max_features='sqrt', random_state=184742552),\n",
       " DecisionTreeClassifier(max_features='sqrt', random_state=895692582),\n",
       " DecisionTreeClassifier(max_features='sqrt', random_state=1474774114),\n",
       " DecisionTreeClassifier(max_features='sqrt', random_state=1802697302),\n",
       " DecisionTreeClassifier(max_features='sqrt', random_state=1951764970),\n",
       " DecisionTreeClassifier(max_features='sqrt', random_state=191003765),\n",
       " DecisionTreeClassifier(max_features='sqrt', random_state=1562315514)]"
      ]
     },
     "execution_count": 131,
     "metadata": {},
     "output_type": "execute_result"
    }
   ],
   "source": [
    "#Visualização dos atributos principais\n",
    "\n",
    "modelo_rf.estimators_"
   ]
  },
  {
   "cell_type": "code",
   "execution_count": 132,
   "metadata": {},
   "outputs": [
    {
     "data": {
      "text/plain": [
       "array(['VITORIA', 'VITORIA', 'VITORIA', 'VITORIA', 'EMPATE', 'VITORIA',\n",
       "       'VITORIA', 'VITORIA', 'VITORIA', 'DERROTA', 'DERROTA', 'VITORIA',\n",
       "       'DERROTA', 'VITORIA', 'VITORIA', 'VITORIA', 'VITORIA', 'DERROTA',\n",
       "       'DERROTA', 'VITORIA', 'DERROTA', 'DERROTA', 'VITORIA', 'VITORIA',\n",
       "       'VITORIA', 'VITORIA', 'DERROTA', 'VITORIA', 'DERROTA', 'VITORIA',\n",
       "       'VITORIA', 'VITORIA', 'VITORIA', 'VITORIA', 'VITORIA', 'VITORIA',\n",
       "       'VITORIA', 'EMPATE', 'VITORIA', 'DERROTA', 'VITORIA', 'VITORIA',\n",
       "       'DERROTA', 'VITORIA', 'VITORIA', 'VITORIA', 'VITORIA', 'VITORIA',\n",
       "       'EMPATE', 'VITORIA', 'VITORIA', 'VITORIA', 'VITORIA', 'VITORIA',\n",
       "       'VITORIA', 'VITORIA', 'VITORIA', 'VITORIA', 'VITORIA', 'VITORIA',\n",
       "       'VITORIA', 'DERROTA', 'DERROTA', 'VITORIA', 'DERROTA', 'EMPATE',\n",
       "       'VITORIA', 'VITORIA', 'VITORIA', 'VITORIA', 'EMPATE', 'VITORIA',\n",
       "       'EMPATE', 'EMPATE', 'VITORIA', 'VITORIA', 'VITORIA', 'EMPATE',\n",
       "       'VITORIA', 'VITORIA', 'EMPATE'], dtype=object)"
      ]
     },
     "execution_count": 132,
     "metadata": {},
     "output_type": "execute_result"
    }
   ],
   "source": [
    "previsoes_rf = modelo_rf.predict(x_teste)\n",
    "previsoes_rf"
   ]
  },
  {
   "cell_type": "code",
   "execution_count": 133,
   "metadata": {},
   "outputs": [
    {
     "data": {
      "image/png": "[encoded data removed]",
      "text/plain": [
       "<Figure size 800x550 with 1 Axes>"
      ]
     },
     "metadata": {},
     "output_type": "display_data"
    },
    {
     "data": {
      "text/plain": [
       "<AxesSubplot:title={'center':'RandomForestClassifier Confusion Matrix'}, xlabel='Predicted Class', ylabel='True Class'>"
      ]
     },
     "execution_count": 133,
     "metadata": {},
     "output_type": "execute_result"
    }
   ],
   "source": [
    "#Matrix de confusão\n",
    "\n",
    "v = ConfusionMatrix(RandomForestClassifier())\n",
    "v.fit(x_treino, y_treino)\n",
    "v.score(x_teste, y_teste)\n",
    "v.poof()"
   ]
  },
  {
   "cell_type": "code",
   "execution_count": 134,
   "metadata": {},
   "outputs": [
    {
     "data": {
      "text/plain": [
       "0.5185185185185185"
      ]
     },
     "execution_count": 134,
     "metadata": {},
     "output_type": "execute_result"
    }
   ],
   "source": [
    "taxa_acerto_rf = accuracy_score(y_teste, previsoes_rf)\n",
    "taxa_acerto_rf"
   ]
  }
 ],
 "metadata": {
  "kernelspec": {
   "display_name": "Python 3",
   "language": "python",
   "name": "python3"
  },
  "language_info": {
   "codemirror_mode": {
    "name": "ipython",
    "version": 3
   },
   "file_extension": ".py",
   "mimetype": "text/x-python",
   "name": "python",
   "nbconvert_exporter": "python",
   "pygments_lexer": "ipython3",
   "version": "3.10.6"
  },
  "orig_nbformat": 4,
  "vscode": {
   "interpreter": {
    "hash": "029cbcb9be33d7e97e0e074e475d44617f6cc5138e88e1941e83cc44d559df35"
   }
  }
 },
 "nbformat": 4,
 "nbformat_minor": 2
}
